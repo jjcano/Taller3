{
 "cells": [
  {
   "cell_type": "code",
   "execution_count": 1,
   "metadata": {
    "collapsed": false
   },
   "outputs": [],
   "source": [
    "import numpy as np\n",
    "import matplotlib.pyplot as plt\n",
    "\n",
    "def normalized_sigmoid_fkt(a, b, x):\n",
    "   '''\n",
    "   Devuelve un arreglo de un espejo de la función sigmoide normalizada\n",
    "   Salida entre 0 y 1\n",
    "   Parámetros de la función a = centro; b = ancho\n",
    "   '''\n",
    "   s= 1/(1+np.exp(b*(x-a)))\n",
    "   return 1*(s-min(s))/(max(s)-min(s)) # normalize function to 0-1\n",
    "\n",
    "def draw_function_on_2x2_grid(x): \n",
    "    fig, ((ax1, ax2), (ax3, ax4)) = plt.subplots(2, 2)\n",
    "    plt.subplots_adjust(wspace=.5)\n",
    "    plt.subplots_adjust(hspace=.5)\n",
    "\n",
    "    ax1.plot(x, normalized_sigmoid_fkt( .5, 18, x))\n",
    "    ax1.set_title('1')\n",
    "\n",
    "    ax2.plot(x, normalized_sigmoid_fkt(0.518, 10.549, x))\n",
    "    ax2.set_title('2')\n",
    "\n",
    "    ax3.plot(x, normalized_sigmoid_fkt( .7, 11, x))\n",
    "    ax3.set_title('3')\n",
    "\n",
    "    ax4.plot(x, normalized_sigmoid_fkt( .2, 14, x))\n",
    "    ax4.set_title('4')\n",
    "    plt.suptitle('Diferentes Funciones Normalizadas (sigmoidal)',size=10 )\n",
    "\n",
    "    return fig\n",
    "x = np.linspace(0,1,100)\n",
    "Travel_function = draw_function_on_2x2_grid(x)"
   ]
  },
  {
   "cell_type": "code",
   "execution_count": null,
   "metadata": {
    "collapsed": true
   },
   "outputs": [],
   "source": []
  },
  {
   "cell_type": "code",
   "execution_count": null,
   "metadata": {
    "collapsed": true
   },
   "outputs": [],
   "source": []
  }
 ],
 "metadata": {
  "anaconda-cloud": {},
  "kernelspec": {
   "display_name": "Python [Root]",
   "language": "python",
   "name": "Python [Root]"
  },
  "language_info": {
   "codemirror_mode": {
    "name": "ipython",
    "version": 2
   },
   "file_extension": ".py",
   "mimetype": "text/x-python",
   "name": "python",
   "nbconvert_exporter": "python",
   "pygments_lexer": "ipython2",
   "version": "2.7.12"
  }
 },
 "nbformat": 4,
 "nbformat_minor": 0
}
